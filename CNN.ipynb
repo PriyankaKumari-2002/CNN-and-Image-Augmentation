{
  "cells": [
    {
      "cell_type": "code",
      "execution_count": null,
      "metadata": {
        "id": "__9OxgWOqUe5"
      },
      "outputs": [],
      "source": [
        "#tensorflow is the deep learning framework\n",
        "import tensorflow as tf\n",
        "from tensorflow import keras\n",
        "#keras is a wrapper class\n",
        "from keras.datasets import fashion_mnist\n",
        "from keras.models import Sequential\n",
        "from keras.layers import Dense, Dropout, Flatten\n",
        "#Dropout regularization: to get rid of overfitting problems\n",
        "from keras.layers import Conv2D, MaxPooling2D\n",
        "from keras import backend as K"
      ]
    },
    {
      "cell_type": "code",
      "execution_count": null,
      "metadata": {
        "id": "NG-9UIYhr2dr"
      },
      "outputs": [],
      "source": [
        "#as in this dataset,we already know there are 10 classes, so we can define it\n",
        "#number of classes-do not change unless the data changes\n",
        "num_classes = 10\n"
      ]
    },
    {
      "cell_type": "code",
      "execution_count": null,
      "metadata": {
        "id": "uUrbVbgrtAY0"
      },
      "outputs": [],
      "source": [
        "#size of batch and no.of epochs of data\n",
        "batch_size = 64\n",
        "epochs = 24"
      ]
    },
    {
      "cell_type": "code",
      "execution_count": null,
      "metadata": {
        "id": "WiNCmRPitOTl"
      },
      "outputs": [],
      "source": [
        "#defining the dimension of image as each and every img is of different dimension\n",
        "#so, we should normalize each and every image and that is why we are defining the dimension i.e. here 28*28\n",
        "#resizing all the images to 28 * 28 format\n",
        "img_rows, img_cols = 28,28\n"
      ]
    },
    {
      "cell_type": "code",
      "execution_count": null,
      "metadata": {
        "id": "CK5b4oLut5Sj"
      },
      "outputs": [],
      "source": [
        "#data,shuffled and split between train and test sets\n",
        "(x_train, y_train), (x_test, y_test) = fashion_mnist.load_data()"
      ]
    },
    {
      "cell_type": "code",
      "execution_count": null,
      "metadata": {
        "colab": {
          "base_uri": "https://localhost:8080/"
        },
        "id": "Y0UqTlNXux0g",
        "outputId": "c66bca08-758b-4eaf-eab9-40e10c0cf304"
      },
      "outputs": [
        {
          "data": {
            "text/plain": [
              "(60000, 28, 28)"
            ]
          },
          "execution_count": 36,
          "metadata": {},
          "output_type": "execute_result"
        }
      ],
      "source": [
        "x_train.shape"
      ]
    },
    {
      "cell_type": "code",
      "execution_count": null,
      "metadata": {
        "id": "WK9AKETtvxbn"
      },
      "outputs": [],
      "source": [
        "#so, here we can see that the training data has 60,000 data and batch size = 64\n",
        "#so, the no.of iteration required in one epoch = 60,000/64 = 937.5 iterations\n",
        "#and so total no. of epochs = 24, so, 937.5 *24  = 22,500 times total iterations and 22,500 times weights will be updated"
      ]
    },
    {
      "cell_type": "code",
      "execution_count": null,
      "metadata": {
        "colab": {
          "base_uri": "https://localhost:8080/"
        },
        "id": "fXk3WBcwvUpb",
        "outputId": "c63b7746-108a-4fe6-c5fd-abe15ddc8617"
      },
      "outputs": [
        {
          "data": {
            "text/plain": [
              "(10000, 28, 28)"
            ]
          },
          "execution_count": 38,
          "metadata": {},
          "output_type": "execute_result"
        }
      ],
      "source": [
        "x_test.shape"
      ]
    },
    {
      "cell_type": "code",
      "execution_count": null,
      "metadata": {
        "colab": {
          "base_uri": "https://localhost:8080/"
        },
        "id": "q82W7oKOvZJL",
        "outputId": "dcb06140-5b17-4375-f505-c1a29ce62221"
      },
      "outputs": [
        {
          "data": {
            "text/plain": [
              "60000"
            ]
          },
          "execution_count": 39,
          "metadata": {},
          "output_type": "execute_result"
        }
      ],
      "source": [
        "len(y_train)"
      ]
    },
    {
      "cell_type": "code",
      "execution_count": null,
      "metadata": {
        "colab": {
          "base_uri": "https://localhost:8080/"
        },
        "id": "XXGRue2kvcGT",
        "outputId": "623faa6b-03f7-4503-87bb-4e7056357f9c"
      },
      "outputs": [
        {
          "data": {
            "text/plain": [
              "array([9, 0, 0, ..., 3, 0, 5], dtype=uint8)"
            ]
          },
          "execution_count": 40,
          "metadata": {},
          "output_type": "execute_result"
        }
      ],
      "source": [
        "y_train"
      ]
    },
    {
      "cell_type": "code",
      "execution_count": null,
      "metadata": {
        "colab": {
          "base_uri": "https://localhost:8080/"
        },
        "id": "fceeMQdnwrol",
        "outputId": "dcb43076-d3fa-4bde-f0af-70a8d9b8640b"
      },
      "outputs": [
        {
          "data": {
            "text/plain": [
              "60000"
            ]
          },
          "execution_count": 41,
          "metadata": {},
          "output_type": "execute_result"
        }
      ],
      "source": [
        "x_train.shape[0]"
      ]
    },
    {
      "cell_type": "code",
      "execution_count": null,
      "metadata": {
        "id": "-fv-NeJ-1WrF"
      },
      "outputs": [],
      "source": [
        "x_train = x_train.reshape(x_train.shape[0], img_rows, img_cols, 1) # we have passed at last 1 here for all as it is gray -scale img\n",
        "x_test = x_test.reshape(x_test.shape[0], img_rows, img_cols,1)\n",
        "input_shape = (img_rows, img_cols,1)"
      ]
    },
    {
      "cell_type": "code",
      "execution_count": null,
      "metadata": {
        "colab": {
          "base_uri": "https://localhost:8080/"
        },
        "id": "UQh4-WGR1ztL",
        "outputId": "736d4b04-20c1-4a73-eee2-55999a318f22"
      },
      "outputs": [
        {
          "data": {
            "text/plain": [
              "(28, 28, 1)"
            ]
          },
          "execution_count": 54,
          "metadata": {},
          "output_type": "execute_result"
        }
      ],
      "source": [
        "input_shape"
      ]
    },
    {
      "cell_type": "code",
      "execution_count": null,
      "metadata": {
        "colab": {
          "base_uri": "https://localhost:8080/"
        },
        "id": "RwXmpyO81342",
        "outputId": "455ed9f7-b75f-40e4-f8a8-afe9214cae28"
      },
      "outputs": [
        {
          "data": {
            "text/plain": [
              "(60000, 28, 28, 1)"
            ]
          },
          "execution_count": 44,
          "metadata": {},
          "output_type": "execute_result"
        }
      ],
      "source": [
        "x_train.shape"
      ]
    },
    {
      "cell_type": "code",
      "execution_count": null,
      "metadata": {
        "colab": {
          "base_uri": "https://localhost:8080/"
        },
        "id": "iNbwPoXq17yq",
        "outputId": "e1666da2-6de9-488a-f3ed-c5f60bfbfb73"
      },
      "outputs": [
        {
          "name": "stdout",
          "output_type": "stream",
          "text": [
            "x_train shape: (60000, 28, 28, 1)\n",
            "x_test shape: (10000, 28, 28, 1)\n",
            "[9 0 0]\n"
          ]
        }
      ],
      "source": [
        "#type convert and scale the test and the training data\n",
        "x_train = x_train.astype('float32')\n",
        "x_test = x_test.astype('float32')\n",
        "#doing feature scaling down\n",
        "x_train /= 255.\n",
        "x_test /= 255.\n",
        "print('x_train shape:', x_train.shape)\n",
        "print('x_test shape:', x_test.shape)\n",
        "print(y_train[0:3])"
      ]
    },
    {
      "cell_type": "code",
      "execution_count": null,
      "metadata": {
        "colab": {
          "base_uri": "https://localhost:8080/"
        },
        "id": "lOqo1EfP4JUY",
        "outputId": "3b943e0c-0af1-4ec4-bb6f-a49c00f97be9"
      },
      "outputs": [
        {
          "name": "stdout",
          "output_type": "stream",
          "text": [
            "[[0. 0. 0. 0. 0. 0. 0. 0. 0. 1.]\n",
            " [1. 0. 0. 0. 0. 0. 0. 0. 0. 0.]]\n"
          ]
        }
      ],
      "source": [
        "#convert class vectors to binary class matrices-- one hot encoding\n",
        "#one hot encoding converts numerical categorical variables into binary vectors\n",
        "# this type of encoding creates a new binary feature for each possible category and assigns a value of 1 to the\n",
        "#feature of each sample that corresponds to its original category.\n",
        "# 3 -> 0 0 0 1 0 0 0 0 0 0  and  1 => 0 1 0 0 0 0 0 0 0 0 \n",
        "y_train = tf.keras.utils.to_categorical(y_train, num_classes)\n",
        "y_test = tf.keras.utils.to_categorical(y_test, num_classes)\n",
        "print(y_train[0:2]) #to verify one hot encoding"
      ]
    },
    {
      "cell_type": "markdown",
      "metadata": {
        "id": "14ABAggE6qIc"
      },
      "source": [
        "#cnn code \n"
      ]
    },
    {
      "cell_type": "code",
      "execution_count": null,
      "metadata": {
        "id": "yJgJNkjg6PBZ"
      },
      "outputs": [],
      "source": [
        "#define the model\n",
        "model = Sequential()"
      ]
    },
    {
      "cell_type": "code",
      "execution_count": null,
      "metadata": {
        "colab": {
          "base_uri": "https://localhost:8080/"
        },
        "id": "Fv1HsM696aMm",
        "outputId": "eb4a15f2-e6da-47c1-e172-5b4a94fd9d95"
      },
      "outputs": [
        {
          "data": {
            "text/plain": [
              "10"
            ]
          },
          "execution_count": 58,
          "metadata": {},
          "output_type": "execute_result"
        }
      ],
      "source": [
        "num_classes"
      ]
    },
    {
      "cell_type": "markdown",
      "metadata": {
        "id": "PQCU78jb6fL6"
      },
      "source": [
        "Create a CNN to classify images"
      ]
    },
    {
      "cell_type": "code",
      "execution_count": null,
      "metadata": {
        "id": "n6XsLwb-6h7i"
      },
      "outputs": [],
      "source": [
        "#below we are creating 2 layer Conv2D network\n",
        "model.add(Conv2D(32, kernel_size=(3,3), activation='relu', input_shape=input_shape)) \n",
        "#here above 32 is the hyperparameter which definres the no. of filters and kernel_size is the filter size\n",
        "model.add(MaxPooling2D(pool_size=(2,2)))\n",
        "model.add(Conv2D(32, kernel_size =(3,3), activation='relu'))\n",
        "model.add(MaxPooling2D(pool_size=(2,2))) \n",
        "model.add(Flatten())\n",
        "model.add(Dense(128, activation='relu')) #fully-connected layers\n",
        "model.add(Dense(64, activation='relu'))\n",
        "#model.add(Dropout(0.5))\n",
        "model.add(Dense(num_classes, activation='softmax'))\n",
        "#softmax function assigns decimal probabilities to each class in a multi-class problem\n",
        "\n",
        "   #output layer, here the no.of neurons will\n",
        "#be equal to num_classes as 10 categories = num_classes and that many neurons should only be \n",
        "#present as num_classes categories will be there\n",
        "\n",
        "#if it is the binary classification, then we can use sigmoid fn in the output/final dense output layer\n"
      ]
    },
    {
      "cell_type": "code",
      "execution_count": 61,
      "metadata": {
        "colab": {
          "base_uri": "https://localhost:8080/",
          "height": 885
        },
        "id": "0GhQwoW4OKxg",
        "outputId": "e606e06d-d0d7-48ba-98ce-95b45be30abc"
      },
      "outputs": [
        {
          "output_type": "stream",
          "name": "stdout",
          "text": [
            "Epoch 1/24\n",
            "938/938 [==============================] - 33s 35ms/step - loss: 0.0530 - accuracy: 0.9800 - val_loss: 0.4203 - val_accuracy: 0.9107\n",
            "Epoch 2/24\n",
            "938/938 [==============================] - 29s 31ms/step - loss: 0.0496 - accuracy: 0.9813 - val_loss: 0.4542 - val_accuracy: 0.9073\n",
            "Epoch 3/24\n",
            "938/938 [==============================] - 29s 31ms/step - loss: 0.0459 - accuracy: 0.9829 - val_loss: 0.4635 - val_accuracy: 0.9075\n",
            "Epoch 4/24\n",
            "938/938 [==============================] - 29s 31ms/step - loss: 0.0455 - accuracy: 0.9832 - val_loss: 0.4680 - val_accuracy: 0.9073\n",
            "Epoch 5/24\n",
            "938/938 [==============================] - 29s 31ms/step - loss: 0.0427 - accuracy: 0.9838 - val_loss: 0.4751 - val_accuracy: 0.9106\n",
            "Epoch 6/24\n",
            "938/938 [==============================] - 28s 30ms/step - loss: 0.0362 - accuracy: 0.9866 - val_loss: 0.4689 - val_accuracy: 0.9069\n",
            "Epoch 7/24\n",
            "938/938 [==============================] - 29s 30ms/step - loss: 0.0400 - accuracy: 0.9844 - val_loss: 0.4805 - val_accuracy: 0.9098\n",
            "Epoch 8/24\n",
            "938/938 [==============================] - 28s 30ms/step - loss: 0.0353 - accuracy: 0.9868 - val_loss: 0.5289 - val_accuracy: 0.9071\n",
            "Epoch 9/24\n",
            "938/938 [==============================] - 28s 30ms/step - loss: 0.0374 - accuracy: 0.9862 - val_loss: 0.5246 - val_accuracy: 0.9108\n",
            "Epoch 10/24\n",
            "938/938 [==============================] - 28s 30ms/step - loss: 0.0315 - accuracy: 0.9885 - val_loss: 0.5499 - val_accuracy: 0.9111\n",
            "Epoch 11/24\n",
            "938/938 [==============================] - 29s 31ms/step - loss: 0.0331 - accuracy: 0.9879 - val_loss: 0.5630 - val_accuracy: 0.9103\n",
            "Epoch 12/24\n",
            "938/938 [==============================] - 29s 31ms/step - loss: 0.0304 - accuracy: 0.9891 - val_loss: 0.5649 - val_accuracy: 0.9083\n",
            "Epoch 13/24\n",
            "938/938 [==============================] - 29s 31ms/step - loss: 0.0320 - accuracy: 0.9882 - val_loss: 0.5753 - val_accuracy: 0.9065\n",
            "Epoch 14/24\n",
            "938/938 [==============================] - 29s 31ms/step - loss: 0.0292 - accuracy: 0.9895 - val_loss: 0.5622 - val_accuracy: 0.9113\n",
            "Epoch 15/24\n",
            "938/938 [==============================] - 29s 31ms/step - loss: 0.0280 - accuracy: 0.9895 - val_loss: 0.6009 - val_accuracy: 0.9030\n",
            "Epoch 16/24\n",
            "938/938 [==============================] - 29s 31ms/step - loss: 0.0297 - accuracy: 0.9894 - val_loss: 0.6361 - val_accuracy: 0.9074\n",
            "Epoch 17/24\n",
            "938/938 [==============================] - 29s 31ms/step - loss: 0.0256 - accuracy: 0.9910 - val_loss: 0.6206 - val_accuracy: 0.9080\n",
            "Epoch 18/24\n",
            "938/938 [==============================] - 29s 31ms/step - loss: 0.0324 - accuracy: 0.9883 - val_loss: 0.6351 - val_accuracy: 0.9089\n",
            "Epoch 19/24\n",
            "938/938 [==============================] - 29s 31ms/step - loss: 0.0207 - accuracy: 0.9927 - val_loss: 0.6797 - val_accuracy: 0.9079\n",
            "Epoch 20/24\n",
            "938/938 [==============================] - 29s 31ms/step - loss: 0.0285 - accuracy: 0.9897 - val_loss: 0.6635 - val_accuracy: 0.9088\n",
            "Epoch 21/24\n",
            "938/938 [==============================] - 29s 31ms/step - loss: 0.0233 - accuracy: 0.9920 - val_loss: 0.6510 - val_accuracy: 0.9028\n",
            "Epoch 22/24\n",
            "938/938 [==============================] - 29s 31ms/step - loss: 0.0317 - accuracy: 0.9893 - val_loss: 0.6192 - val_accuracy: 0.9117\n",
            "Epoch 23/24\n",
            "938/938 [==============================] - 29s 31ms/step - loss: 0.0225 - accuracy: 0.9923 - val_loss: 0.6488 - val_accuracy: 0.9106\n",
            "Epoch 24/24\n",
            "938/938 [==============================] - 29s 31ms/step - loss: 0.0199 - accuracy: 0.9933 - val_loss: 0.7061 - val_accuracy: 0.9018\n"
          ]
        },
        {
          "output_type": "execute_result",
          "data": {
            "text/plain": [
              "'\\nverbose basically means logs. It accepts values as 0/1. If you put Verbose value as 1 in ModelCheckPoint callback, after\\n each epoch you will get the statement after each epoch that the model got improved from error 456 to 123\\n or model did not improve in this epoch \\n '"
            ],
            "application/vnd.google.colaboratory.intrinsic+json": {
              "type": "string"
            }
          },
          "metadata": {},
          "execution_count": 61
        }
      ],
      "source": [
        "#define compile to minimize the categorical loss, use some optimizer to optimize,ada delta optimized, and optimize to maximum accuracy\n",
        "model.compile(loss=keras.losses.categorical_crossentropy, optimizer=keras.optimizers.Adam(),metrics=['accuracy'])\n",
        "\n",
        "#categorical cross entropy/ sparse categorical cross-entropy is the loss function for multi-class classification and it is binary cross entropy for binary classification\n",
        "#there are other better optimizers than Adam (Adaptive Moment Estimation) Optimizer like SDD optimizer, RMSprop optimizer, and we can use these\n",
        "#Adam is a replacement optimization algorithm for stochastic gradientdescent for training deep learning models.\n",
        "\n",
        "\n",
        "#train the model and test/validate the mode with the test data after each cycle(epoch) through the training data\n",
        "#return the history of loss and accuracy for each epoch\n",
        "hist = model.fit(x_train, y_train, batch_size= batch_size, \n",
        "                 epochs=epochs, verbose=1, validation_data=(x_test, y_test))\n",
        "#here batch size = 64 and epochs = 24\n",
        "\n",
        "\"\"\"\n",
        "verbose basically means logs. It accepts values as 0/1. If you put Verbose value as 1 in ModelCheckPoint callback, after\n",
        " each epoch you will get the statement after each epoch that the model got improved from error 456 to 123\n",
        " or model did not improve in this epoch \n",
        " \"\"\"\n",
        " \n",
        "\n",
        "\n",
        "\n"
      ]
    },
    {
      "cell_type": "code",
      "source": [
        "hist.history"
      ],
      "metadata": {
        "colab": {
          "base_uri": "https://localhost:8080/"
        },
        "id": "XKyfT-4OgVIM",
        "outputId": "273dbae3-e269-49bc-909f-3b5b5f73074f"
      },
      "execution_count": 62,
      "outputs": [
        {
          "output_type": "execute_result",
          "data": {
            "text/plain": [
              "{'loss': [0.053029656410217285,\n",
              "  0.04960523918271065,\n",
              "  0.04587823152542114,\n",
              "  0.04553401842713356,\n",
              "  0.04270991310477257,\n",
              "  0.036239977926015854,\n",
              "  0.040004145354032516,\n",
              "  0.03531184792518616,\n",
              "  0.037380021065473557,\n",
              "  0.03153898939490318,\n",
              "  0.03309536725282669,\n",
              "  0.030354583635926247,\n",
              "  0.03200914338231087,\n",
              "  0.02917293831706047,\n",
              "  0.028012998402118683,\n",
              "  0.029653184115886688,\n",
              "  0.025627031922340393,\n",
              "  0.03242238610982895,\n",
              "  0.02074713259935379,\n",
              "  0.028455369174480438,\n",
              "  0.02330111153423786,\n",
              "  0.03173986077308655,\n",
              "  0.022451601922512054,\n",
              "  0.019894540309906006],\n",
              " 'accuracy': [0.9799666404724121,\n",
              "  0.9812999963760376,\n",
              "  0.9828500151634216,\n",
              "  0.9831833243370056,\n",
              "  0.9837833046913147,\n",
              "  0.9865833520889282,\n",
              "  0.9843833446502686,\n",
              "  0.9868000149726868,\n",
              "  0.9861833453178406,\n",
              "  0.9884833097457886,\n",
              "  0.9879000186920166,\n",
              "  0.9890666604042053,\n",
              "  0.988183319568634,\n",
              "  0.9895166754722595,\n",
              "  0.989466667175293,\n",
              "  0.9894166588783264,\n",
              "  0.991016685962677,\n",
              "  0.9883333444595337,\n",
              "  0.9926999807357788,\n",
              "  0.9896666407585144,\n",
              "  0.9920499920845032,\n",
              "  0.989300012588501,\n",
              "  0.9922500252723694,\n",
              "  0.9932666420936584],\n",
              " 'val_loss': [0.4202991724014282,\n",
              "  0.45418065786361694,\n",
              "  0.4634857773780823,\n",
              "  0.46804100275039673,\n",
              "  0.475138783454895,\n",
              "  0.46887820959091187,\n",
              "  0.48050811886787415,\n",
              "  0.528892993927002,\n",
              "  0.5245689749717712,\n",
              "  0.5499330163002014,\n",
              "  0.5629870891571045,\n",
              "  0.5649489760398865,\n",
              "  0.5753008723258972,\n",
              "  0.562204122543335,\n",
              "  0.6009230613708496,\n",
              "  0.6360963582992554,\n",
              "  0.6205950379371643,\n",
              "  0.6350971460342407,\n",
              "  0.6797261238098145,\n",
              "  0.6634501218795776,\n",
              "  0.651013195514679,\n",
              "  0.6191650629043579,\n",
              "  0.6487964987754822,\n",
              "  0.7060850858688354],\n",
              " 'val_accuracy': [0.9107000231742859,\n",
              "  0.9072999954223633,\n",
              "  0.9075000286102295,\n",
              "  0.9072999954223633,\n",
              "  0.9106000065803528,\n",
              "  0.9068999886512756,\n",
              "  0.9097999930381775,\n",
              "  0.9071000218391418,\n",
              "  0.9107999801635742,\n",
              "  0.9110999703407288,\n",
              "  0.9103000164031982,\n",
              "  0.90829998254776,\n",
              "  0.906499981880188,\n",
              "  0.911300003528595,\n",
              "  0.902999997138977,\n",
              "  0.9074000120162964,\n",
              "  0.9079999923706055,\n",
              "  0.9089000225067139,\n",
              "  0.9078999757766724,\n",
              "  0.9088000059127808,\n",
              "  0.9028000235557556,\n",
              "  0.9117000102996826,\n",
              "  0.9106000065803528,\n",
              "  0.9017999768257141]}"
            ]
          },
          "metadata": {},
          "execution_count": 62
        }
      ]
    },
    {
      "cell_type": "code",
      "source": [
        "#evaluate the model with the test data to get the scores on 'real' data.\n",
        "score = model.evaluate(x_test, y_test, verbose=0)\n",
        "print('Test Loss:', score[0])\n",
        "print('Test accuracy:', score[1])\n",
        "\n",
        "#plot data to see relationships in training and validation data\n",
        "import numpy as np\n",
        "import matplotlib.pyplot as plt\n",
        "%matplotlib inline \n",
        "# it sets the backend of matplotlib to the 'inline' backend\n",
        "epoch_list = list(range(1, len(hist.history['accuracy']) + 1)) #values of x-axis-[1,2,3....]\n",
        "plt.plot(epoch_list, hist.history['accuracy'], epoch_list, hist.history['val_accuracy'])\n",
        "plt.legend(('Training Accuracy', 'Validation Accuracy'))\n",
        "plt.show()\n",
        "\n"
      ],
      "metadata": {
        "colab": {
          "base_uri": "https://localhost:8080/",
          "height": 300
        },
        "id": "2CkS0h2-j11w",
        "outputId": "36fda9a2-f024-44ee-abc4-7398e5a0e00c"
      },
      "execution_count": 69,
      "outputs": [
        {
          "output_type": "stream",
          "name": "stdout",
          "text": [
            "Test Loss: 0.7060851454734802\n",
            "Test accuracy: 0.9017999768257141\n"
          ]
        },
        {
          "output_type": "display_data",
          "data": {
            "text/plain": [
              "<Figure size 432x288 with 1 Axes>"
            ],
            "image/png": "[encoded data removed]"
          },
          "metadata": {
            "needs_background": "light"
          }
        }
      ]
    },
    {
      "cell_type": "code",
      "source": [
        "#model summary\n",
        "model.summary()"
      ],
      "metadata": {
        "colab": {
          "base_uri": "https://localhost:8080/"
        },
        "id": "qPhw65Bui4RC",
        "outputId": "f9e098cb-3082-4ec5-817f-a4b636bfefdb"
      },
      "execution_count": 64,
      "outputs": [
        {
          "output_type": "stream",
          "name": "stdout",
          "text": [
            "Model: \"sequential_2\"\n",
            "_________________________________________________________________\n",
            " Layer (type)                Output Shape              Param #   \n",
            "=================================================================\n",
            " conv2d_6 (Conv2D)           (None, 26, 26, 32)        320       \n",
            "                                                                 \n",
            " max_pooling2d_2 (MaxPooling  (None, 13, 13, 32)       0         \n",
            " 2D)                                                             \n",
            "                                                                 \n",
            " conv2d_7 (Conv2D)           (None, 11, 11, 32)        9248      \n",
            "                                                                 \n",
            " max_pooling2d_3 (MaxPooling  (None, 5, 5, 32)         0         \n",
            " 2D)                                                             \n",
            "                                                                 \n",
            " flatten_1 (Flatten)         (None, 800)               0         \n",
            "                                                                 \n",
            " dense_3 (Dense)             (None, 128)               102528    \n",
            "                                                                 \n",
            " dense_4 (Dense)             (None, 64)                8256      \n",
            "                                                                 \n",
            " dense_5 (Dense)             (None, 10)                650       \n",
            "                                                                 \n",
            "=================================================================\n",
            "Total params: 121,002\n",
            "Trainable params: 121,002\n",
            "Non-trainable params: 0\n",
            "_________________________________________________________________\n"
          ]
        }
      ]
    },
    {
      "cell_type": "code",
      "source": [
        "#observations\n",
        "#in Conv2D, before the i/p image was 28 * 28 *1, and after  that as visible it is 26*26*32 , so\n",
        "#filter size is 32, and whenever there are n*n filter and when stride=1, so, we get (n-2)*(n-2) matrix.\n",
        "\n",
        "#maxpooling of 2*2 is cutting down the pixels by 2 i.e. /2 ; so here 26/2 = 13*13\n",
        "\n",
        "#then n-2, = 13-2 =11 (conv2d)\n",
        "#and then 13/2 = 5 (maxpooling 2d)\n",
        "# for flattening, multiply the pixels; -> 5*5*32 = 800\n",
        "\n"
      ],
      "metadata": {
        "id": "aVb-O4iwjGGW"
      },
      "execution_count": 4,
      "outputs": []
    },
    {
      "cell_type": "code",
      "source": [
        "\"\"\"\n",
        "Parameters in a Conv Layer:(Param)\n",
        "((shape of width of filter * shape of height of filter * number of filters in the previous layer+1)* no. of filters)\n",
        "\n",
        "so, for first one:  width of filter = 3, height of filter = 3, no. of filters in prev layer = 1, no. of filters =32\n",
        "so, ((3*3*1+1)*32) = 10*32 = 320\n",
        "\n",
        "for 2nd conv2d layer: width =3, height=3, no.of filters in prev layer=32, no. of filters = 32\n",
        "so,((3*3*32+1)*32) = (288+1)*32 = 9248\n",
        "\n",
        "\"\"\""
      ],
      "metadata": {
        "colab": {
          "base_uri": "https://localhost:8080/",
          "height": 87
        },
        "id": "FdwrgPGNaTl0",
        "outputId": "591a1ac9-253b-4333-c05c-6d5429d0b4f0"
      },
      "execution_count": 5,
      "outputs": [
        {
          "output_type": "execute_result",
          "data": {
            "text/plain": [
              "'\\nParameters in a Conv Layer:(Param)\\n((shape of width of filter * shape of height of filter * number of filters in the previous layer+1)* no. of filters)\\n\\nso, for first one:  width of filter = 3, height of filter = 3, no. of filters in prev layer = 1, no. of filters =32\\nso, ((3*3*1+1)*32) = 10*32 = 320\\n\\nfor 2nd conv2d layer: width =3, height=3, no.of filters in prev layer=32, no. of filters = 32\\nso,((3*3*32+1)*32) = (288+1)*32 = 9248\\n\\n'"
            ],
            "application/vnd.google.colaboratory.intrinsic+json": {
              "type": "string"
            }
          },
          "metadata": {},
          "execution_count": 5
        }
      ]
    },
    {
      "cell_type": "code",
      "source": [
        "\"\"\"\n",
        "Parameters in FC(Fully Connected) layer :\n",
        "((current layer c * previous layer p)+1 *c)\n",
        "\n",
        "for 1st dense layer: current layer=128, prev layer=800\n",
        "so, ((128*800)+1 *128) = 102528\n",
        "for 2nd dense layer:\n",
        "  c= 64, p=128,\n",
        "  so, ((64*128)+1 * 64) = 8256\n",
        "\n",
        "  for 3rd dense layer/output layer:\n",
        "    c=10, p=64\n",
        "    so,((10*64)+10) = 650\n",
        "\"\"\""
      ],
      "metadata": {
        "colab": {
          "base_uri": "https://localhost:8080/",
          "height": 70
        },
        "id": "_xktN-vIinBZ",
        "outputId": "6d029ac6-c4cf-485f-dba4-dff9318568d7"
      },
      "execution_count": 6,
      "outputs": [
        {
          "output_type": "execute_result",
          "data": {
            "text/plain": [
              "'\\nParameters in FC(Fully Connected) layer :\\n((current layer c * previous layer p)+1 *c)\\n\\nfor 1st dense layer: current layer=128, prev layer=800\\nso, ((128*800)+1 *128) = 102528\\nfor 2nd dense layer:\\n  c= 64, p=128,\\n  so, ((64*128)+1 * 64) = 8256\\n\\n  for 3rd dense layer/output layer:\\n    c=10, p=64\\n    so,((10*64)+10) = 650\\n'"
            ],
            "application/vnd.google.colaboratory.intrinsic+json": {
              "type": "string"
            }
          },
          "metadata": {},
          "execution_count": 6
        }
      ]
    }
  ],
  "metadata": {
    "colab": {
      "collapsed_sections": [],
      "provenance": []
    },
    "kernelspec": {
      "display_name": "Python 3",
      "name": "python3"
    },
    "language_info": {
      "name": "python"
    }
  },
  "nbformat": 4,
  "nbformat_minor": 0
}